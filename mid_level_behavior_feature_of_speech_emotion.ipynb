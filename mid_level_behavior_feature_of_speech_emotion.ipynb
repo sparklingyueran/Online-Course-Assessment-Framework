{
 "cells": [
  {
   "cell_type": "code",
   "execution_count": 14,
   "metadata": {},
   "outputs": [],
   "source": [
    "import json \n",
    "import numpy as np\n",
    "names = locals()\n",
    "for i in range(9):\n",
    "    emotion_label_path = 'emotion/recording_labels_process{}.json'.format(i)\n",
    "    with open(emotion_label_path,'r', encoding='UTF-8') as f:\n",
    "         names['emo_dict_' + str(i)] = json.load(f)"
   ]
  },
  {
   "cell_type": "code",
   "execution_count": 15,
   "metadata": {},
   "outputs": [],
   "source": [
    "def get_emo_matrix(emo_dict_0,audio_name):\n",
    "    key_ls = list(emo_dict_0[audio_name].keys())\n",
    "    emo_label_ls = []\n",
    "    for idx in key_ls:\n",
    "    #     key_idx = (list(emo_dict_0[audio_name].keys())[idx])\n",
    "        key_idx = idx\n",
    "        start_time = float(key_idx.split(',')[0][1:])\n",
    "        end_time = float(key_idx.split(',')[1][:-1])\n",
    "        time_slot = end_time-start_time\n",
    "\n",
    "        clip_emo_dict = emo_dict_0[audio_name][key_idx]\n",
    "        # 'Surprise', 'Neutral', 'Sad', 'Happy', 'Angry'\n",
    "        clip_emo_array = np.array(list(map(lambda x:float(x),clip_emo_dict.values())))\n",
    "        emo_label_ls.append(clip_emo_array)\n",
    "    if len(emo_label_ls)>1:\n",
    "        emo_matrix = np.vstack(emo_label_ls)\n",
    "    elif len(emo_label_ls)==1:\n",
    "        emo_matrix = (emo_label_ls[0]).reshape((1,5))\n",
    "    else:\n",
    "        print('=========')\n",
    "        print('ARRAY ERROR',audio_name,len(emo_label_ls))\n",
    "        emo_matrix = None\n",
    "#     print(emo_matrix.shape)\n",
    "    return emo_matrix"
   ]
  },
  {
   "cell_type": "code",
   "execution_count": 16,
   "metadata": {},
   "outputs": [],
   "source": [
    "emo_matrix_dict={}\n",
    "for i in range(9):\n",
    "    emo_dict = names['emo_dict_' + str(i)]\n",
    "    for key in emo_dict.keys():\n",
    "        new_emo_matrix = get_emo_matrix(emo_dict,key)\n",
    "        if new_emo_matrix is not None:\n",
    "            emo_matrix_dict[key] = new_emo_matrix"
   ]
  },
  {
   "cell_type": "code",
   "execution_count": 18,
   "metadata": {},
   "outputs": [],
   "source": [
    "big_type_one_dict = np.load('big_type_one_dict.npy', allow_pickle=True).item()\n",
    "big_type_ls = list(set(big_type_one_dict.values()))\n",
    "\n",
    "single_clip_dict = emo_matrix_dict\n",
    "ls_dict = {}\n",
    "for clip_big in big_type_ls:\n",
    "    ls_dict[clip_big]=[]\n",
    "for key in single_clip_dict.keys():\n",
    "    \n",
    "    big_key = key[2:-4]\n",
    "    \n",
    "    if big_key in big_type_one_dict.keys():\n",
    "        big_value = big_type_one_dict[big_key]\n",
    "        ls_dict[big_value].append(big_key)\n",
    "    else:\n",
    "        print(big_key)\n",
    "empty_ls = []\n",
    "for key in ls_dict.keys():\n",
    "    if len(ls_dict[key])<1:\n",
    "        empty_ls.append(key)\n",
    "        print(key)\n",
    "for key in empty_ls:        \n",
    "    ls_dict.pop(key)\n",
    "    "
   ]
  },
  {
   "cell_type": "code",
   "execution_count": 20,
   "metadata": {},
   "outputs": [],
   "source": [
    "def get_seq_matrix_dict():\n",
    "    seq_dict = {}\n",
    "    seq_matrix_dict = {}\n",
    "\n",
    "    for clip_big in big_type_ls:\n",
    "        seq_dict[clip_big]=[]\n",
    "\n",
    "    for key in ls_dict.keys():\n",
    "        for single_clip in ls_dict[key]:\n",
    "            new_key = 'a_'+single_clip+'.wav'\n",
    "            single_value = single_clip_dict[new_key]\n",
    "            (seq_dict[key]).append(single_value)\n",
    "\n",
    "    for key in seq_dict.keys():\n",
    "        label_ls = seq_dict[key]\n",
    "    #     print(label_ls)\n",
    "        if len(label_ls)>1:\n",
    "            label_matrix_value = np.vstack(label_ls)\n",
    "            seq_matrix_dict[key] = label_matrix_value\n",
    "    #         print(label_matrix_value.shape)\n",
    "        elif len(label_ls)==1:\n",
    "            label_matrix_value = label_ls[0]\n",
    "            seq_matrix_dict[key] = label_matrix_value\n",
    "    #         print(label_matrix_value.shape)\n",
    "        elif len(label_ls)==0:\n",
    "            print(key)\n",
    "        else:\n",
    "            print(key,len(label_ls))\n",
    "    return seq_matrix_dict"
   ]
  },
  {
   "cell_type": "code",
   "execution_count": 21,
   "metadata": {},
   "outputs": [],
   "source": [
    "def get_mean_dict(ori_dict):\n",
    "    mean_dict = {}\n",
    "    for key in list(ori_dict.keys()):\n",
    "        mat = ori_dict[key]\n",
    "        vec = np.mean(mat, axis=0)\n",
    "        mean_dict[key] = vec\n",
    "    return mean_dict"
   ]
  },
  {
   "cell_type": "code",
   "execution_count": 22,
   "metadata": {},
   "outputs": [],
   "source": [
    "def get_speech_single_emo(speech_emo_dict):\n",
    "    '''\n",
    "    percent of different emo\n",
    "    '''\n",
    "    emo_class_dict = {}\n",
    "    for video_id in speech_emo_dict.keys():\n",
    "        emo_seq = speech_emo_dict[video_id]\n",
    "        emo_class = []\n",
    "        for k in range(len(emo_seq)):\n",
    "            a = emo_seq[k]\n",
    "            e_class = (np.where(a==np.max(a)))[0][0]\n",
    "            emo_class.append(e_class)\n",
    "        \n",
    "        count_dict = {0:0,1:0,2:0,3:0,4:0}\n",
    "        for key in emo_class:\n",
    "            count_dict[key] = count_dict.get(key, 0) + 1\n",
    "#         print(count_dict)\n",
    "        \n",
    "        p1 = (count_dict[0])/len(emo_class)\n",
    "        p2 = (count_dict[1])/len(emo_class)\n",
    "        p3 = (count_dict[2])/len(emo_class)\n",
    "        p4 = (count_dict[3])/len(emo_class)\n",
    "        p5 = (count_dict[4])/len(emo_class)\n",
    "    \n",
    "        emo_class_dict[video_id] = [p1,p2,p3,p4,p5]\n",
    "    \n",
    "    return emo_class_dict\n"
   ]
  },
  {
   "cell_type": "code",
   "execution_count": 24,
   "metadata": {},
   "outputs": [],
   "source": [
    "speech_emo_dict = get_seq_matrix_dict()\n",
    "speech_emo_mean_dict = get_mean_dict(speech_emo_dict)\n",
    "emo_class_dict = get_speech_single_emo(speech_emo_dict)\n",
    "\n",
    "\n",
    "np.save('speech_emo_dict.npy',speech_emo_dict)\n",
    "np.save('speech_emo_mean_dict.npy',speech_emo_mean_dict)\n",
    "np.save('emo_class_dict.npy',emo_class_dict)"
   ]
  }
 ],
 "metadata": {
  "kernelspec": {
   "display_name": "Python 3",
   "language": "python",
   "name": "python3"
  },
  "language_info": {
   "codemirror_mode": {
    "name": "ipython",
    "version": 3
   },
   "file_extension": ".py",
   "mimetype": "text/x-python",
   "name": "python",
   "nbconvert_exporter": "python",
   "pygments_lexer": "ipython3",
   "version": "3.8.5"
  }
 },
 "nbformat": 4,
 "nbformat_minor": 4
}
